{
 "cells": [
  {
   "cell_type": "markdown",
   "id": "aac56305-f44e-4a9f-8f25-4f77b203ae65",
   "metadata": {
    "editable": true,
    "slideshow": {
     "slide_type": ""
    },
    "tags": []
   },
   "source": [
    "```{eval-rst}\n",
    ":html_theme.sidebar_secondary.remove:\n",
    "```"
   ]
  },
  {
   "cell_type": "code",
   "execution_count": 1,
   "id": "7a985e1c-7d72-480d-969a-398cdda4cae0",
   "metadata": {
    "editable": true,
    "execution": {
     "iopub.execute_input": "2025-09-30T17:23:23.471931Z",
     "iopub.status.busy": "2025-09-30T17:23:23.470896Z",
     "iopub.status.idle": "2025-09-30T17:23:23.487005Z",
     "shell.execute_reply": "2025-09-30T17:23:23.484979Z"
    },
    "slideshow": {
     "slide_type": ""
    },
    "tags": [
     "remove-input"
    ]
   },
   "outputs": [],
   "source": [
    "# This cell is removed with the tag: \"remove-input\"\n",
    "# As such, it will not be shown in documentation\n",
    "\n",
    "nglview_static_dir = '_static/nglview/'"
   ]
  },
  {
   "cell_type": "markdown",
   "id": "6c9de210-0ac6-4ee9-9dad-7cfe0b988806",
   "metadata": {
    "editable": true,
    "slideshow": {
     "slide_type": ""
    },
    "tags": []
   },
   "source": [
    ":::{figure} _static/logo.svg\n",
    ":width: 50%\n",
    ":align: center\n",
    "\n",
    "A **Pocket** **M**ulti**T**oolkit for exploring molecular surfaces\n",
    "\n",
    "\n",
    "```{image} https://img.shields.io/badge/release-v0.1.0-white.svg\n",
    ":target: https://github.com/uibcdf/pocketmt\n",
    "```\n",
    "```{image} https://img.shields.io/badge/license-MIT-white.svg\n",
    ":target: https://github.com/uibcdf/pocketmt/blob/master/LICENSE\n",
    "```\n",
    "```{image} https://img.shields.io/badge/install%20with-conda-white.svg\n",
    ":target: https://anaconda.org/uibcdf/pocketmt\n",
    "```\n",
    "```{image} https://img.shields.io/badge/python-3.10%20%7C%203.11%20%7C%203.12-white.svg\n",
    ":target: https://www.python.org/downloads/\n",
    "```\n",
    "```{image} https://img.shields.io/badge/DOI-10.5281/8092688-white.svg\n",
    ":target: https://zenodo.org/record/8092688\n",
    "```\n",
    "\n",
    ":::\n",
    "\n",
    "<br/>\n",
    "\n",
    "\n",
    "## Install it\n",
    "\n",
    "```bash\n",
    "conda install -c uibcdf pocketmt\n",
    "```\n",
    "\n",
    "<br/>\n",
    "\n",
    "## Use it"
   ]
  },
  {
   "cell_type": "code",
   "execution_count": 2,
   "id": "1941eaa6-db2f-42e3-99f6-d4254beab727",
   "metadata": {
    "execution": {
     "iopub.execute_input": "2025-09-30T17:23:23.494010Z",
     "iopub.status.busy": "2025-09-30T17:23:23.493341Z",
     "iopub.status.idle": "2025-09-30T17:23:24.154566Z",
     "shell.execute_reply": "2025-09-30T17:23:24.153828Z"
    }
   },
   "outputs": [],
   "source": [
    "import pocketmt as pom"
   ]
  },
  {
   "cell_type": "markdown",
   "id": "73eaeea9-8117-4d12-a436-36736567322b",
   "metadata": {
    "editable": true,
    "slideshow": {
     "slide_type": ""
    },
    "tags": []
   },
   "source": [
    "## Citation\n",
    "\n",
    "Coming soon..."
   ]
  },
  {
   "cell_type": "code",
   "execution_count": null,
   "id": "c391de1c-d805-4f9e-9ed7-be0dc3b51362",
   "metadata": {
    "editable": true,
    "slideshow": {
     "slide_type": ""
    },
    "tags": []
   },
   "outputs": [],
   "source": []
  },
  {
   "cell_type": "markdown",
   "id": "96727aaf-6fb1-4929-9dc5-d51fc8ff3cd0",
   "metadata": {
    "editable": true,
    "slideshow": {
     "slide_type": ""
    },
    "tags": []
   },
   "source": [
    "```{eval-rst}\n",
    "\n",
    ".. toctree::\n",
    "   :maxdepth: 2\n",
    "   :hidden:\n",
    "\n",
    "   content/about/index.md\n",
    "\n",
    ".. toctree::\n",
    "   :maxdepth: 2\n",
    "   :hidden:\n",
    "\n",
    "   content/showcase/index.md\n",
    "\n",
    ".. toctree::\n",
    "   :maxdepth: 2\n",
    "   :hidden:\n",
    "\n",
    "   content/user/user.md\n",
    "\n",
    ".. toctree::\n",
    "   :maxdepth: 2\n",
    "   :hidden:\n",
    "\n",
    "   content/developer/index.md\n",
    "   \n",
    ".. toctree::\n",
    "   :maxdepth: 2\n",
    "   :hidden:\n",
    "\n",
    "   api/index.md\n",
    "\n",
    ".. toctree::\n",
    "   :maxdepth: 2\n",
    "   :hidden:\n",
    "\n",
    "   content/ai_assistants.md\n",
    "\n",
    "```"
   ]
  }
 ],
 "metadata": {
  "kernelspec": {
   "display_name": "Python 3 (ipykernel)",
   "language": "python",
   "name": "python3"
  },
  "language_info": {
   "codemirror_mode": {
    "name": "ipython",
    "version": 3
   },
   "file_extension": ".py",
   "mimetype": "text/x-python",
   "name": "python",
   "nbconvert_exporter": "python",
   "pygments_lexer": "ipython3",
   "version": "3.12.11"
  }
 },
 "nbformat": 4,
 "nbformat_minor": 5
}
