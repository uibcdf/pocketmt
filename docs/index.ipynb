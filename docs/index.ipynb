{
 "cells": [
  {
   "cell_type": "markdown",
   "id": "6c9de210-0ac6-4ee9-9dad-7cfe0b988806",
   "metadata": {},
   "source": [
    "# OpenPocket\n",
    "\n",
    "```{image} https://anaconda.org/uibcdf/openpocket/badges/license.svg\n",
    ":target: https://github.com/uibcdf/OpenPocket/blob/master/License\n",
    "```\n",
    "\n",
    "OpenPocket makes the characterization of molecular surfaces easy.\n",
    "\n",
    "## Install it\n",
    "\n",
    "```bash\n",
    "conda install -c uibcdf openpocket\n",
    "```"
   ]
  },
  {
   "cell_type": "markdown",
   "id": "8892c794-5ead-4dff-8035-22123b57761f",
   "metadata": {},
   "source": [
    "## Use it"
   ]
  },
  {
   "cell_type": "code",
   "execution_count": null,
   "id": "0219ddce-3929-4ed8-bec1-46390da25f93",
   "metadata": {},
   "outputs": [],
   "source": [
    "import openpocket as opoc"
   ]
  },
  {
   "cell_type": "markdown",
   "id": "73eaeea9-8117-4d12-a436-36736567322b",
   "metadata": {},
   "source": [
    "## Citation\n",
    "\n",
    "Coming soon..."
   ]
  },
  {
   "cell_type": "markdown",
   "id": "96727aaf-6fb1-4929-9dc5-d51fc8ff3cd0",
   "metadata": {},
   "source": [
    "```{eval-rst}\n",
    ".. toctree::\n",
    "   :name: about\n",
    "   :caption: About\n",
    "   :maxdepth: 2\n",
    "   :hidden:\n",
    "\n",
    "   contents/about/what.md\n",
    "   contents/about/installation.md\n",
    "   contents/about/showcase/index.md\n",
    "   contents/about/citation.md\n",
    "\n",
    ".. toctree::\n",
    "   :name: user_guide\n",
    "   :caption: User Guide\n",
    "   :maxdepth: 2\n",
    "   :hidden:\n",
    "\n",
    "   contents/user/intro/index.md\n",
    "   contents/user/tools/index.md\n",
    "\n",
    ".. toctree::\n",
    "   :name: developer_guide\n",
    "   :caption: Developer Guide\n",
    "   :maxdepth: 2\n",
    "   :hidden:\n",
    "\n",
    "   contents/developer/intro/index.md\n",
    "   \n",
    ".. toctree::\n",
    "   :name: api_doc\n",
    "   :caption: API Documentation\n",
    "   :maxdepth: 2\n",
    "   :hidden:\n",
    "\n",
    "   api/users/api_users.rst\n",
    "   api/developers/api_developers.rst\n",
    "```"
   ]
  }
 ],
 "metadata": {
  "kernelspec": {
   "display_name": "Python 3 (ipykernel)",
   "language": "python",
   "name": "python3"
  },
  "language_info": {
   "codemirror_mode": {
    "name": "ipython",
    "version": 3
   },
   "file_extension": ".py",
   "mimetype": "text/x-python",
   "name": "python",
   "nbconvert_exporter": "python",
   "pygments_lexer": "ipython3",
   "version": "3.9.13"
  }
 },
 "nbformat": 4,
 "nbformat_minor": 5
}
