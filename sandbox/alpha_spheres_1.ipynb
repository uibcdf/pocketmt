{
 "cells": [
  {
   "cell_type": "code",
   "execution_count": 1,
   "id": "5e61b1dc-2bc4-43b1-99dc-c9339a1abb69",
   "metadata": {},
   "outputs": [],
   "source": [
    "%load_ext autoreload\n",
    "%autoreload 2"
   ]
  },
  {
   "cell_type": "markdown",
   "id": "bcfeda5b-e8d7-45ee-9932-795131351b6f",
   "metadata": {},
   "source": [
    "# Alpha-spheres\n",
    "\n",
    "Let's see how the class AlphaSpheres work."
   ]
  },
  {
   "cell_type": "markdown",
   "id": "e4105276-2202-4384-b484-b9f15901410c",
   "metadata": {},
   "source": [
    "The library is imported:"
   ]
  },
  {
   "cell_type": "code",
   "execution_count": 2,
   "id": "279d8f80-8de5-4ddf-8a3f-2b4d29fd348e",
   "metadata": {},
   "outputs": [],
   "source": [
    "import openpocket as opoc"
   ]
  },
  {
   "cell_type": "markdown",
   "id": "c8b6fbb4-afb5-4a20-b0f1-c045bc36a7bc",
   "metadata": {},
   "source": [
    "Let's get the alphaspheres set corresponding to 6 points in a 3D space:"
   ]
  },
  {
   "cell_type": "code",
   "execution_count": 3,
   "id": "98fdefec-37b7-479c-8092-db99cac4e5eb",
   "metadata": {},
   "outputs": [],
   "source": [
    "points = ([[-1.,  2.,  0.],\n",
    "           [ 0.,  2.,  1.],\n",
    "           [ 1., -2.,  1.],\n",
    "           [ 0.,  1.,  1.],\n",
    "           [ 0.,  0.,  0.],\n",
    "           [-1., -1.,  0.]])"
   ]
  },
  {
   "cell_type": "code",
   "execution_count": 4,
   "id": "9773ba61-95d5-4264-954a-6d2aec703eb4",
   "metadata": {},
   "outputs": [],
   "source": [
    "aspheres = opoc.alpha_spheres.AlphaSpheres(points)"
   ]
  },
  {
   "cell_type": "markdown",
   "id": "43b5c16b-09d8-4a90-b149-0cbee03549db",
   "metadata": {},
   "source": [
    "Let's now check the attributes of the class. The input points:"
   ]
  },
  {
   "cell_type": "code",
   "execution_count": 5,
   "id": "bb8150e8-fbe8-4dad-b69f-3321981457c4",
   "metadata": {},
   "outputs": [
    {
     "data": {
      "text/plain": [
       "array([[-1.,  2.,  0.],\n",
       "       [ 0.,  2.,  1.],\n",
       "       [ 1., -2.,  1.],\n",
       "       [ 0.,  1.,  1.],\n",
       "       [ 0.,  0.,  0.],\n",
       "       [-1., -1.,  0.]])"
      ]
     },
     "execution_count": 5,
     "metadata": {},
     "output_type": "execute_result"
    }
   ],
   "source": [
    "aspheres.points"
   ]
  },
  {
   "cell_type": "code",
   "execution_count": 6,
   "id": "06aa1a98-31ba-4ff1-a219-255db4301974",
   "metadata": {},
   "outputs": [
    {
     "data": {
      "text/plain": [
       "6"
      ]
     },
     "execution_count": 6,
     "metadata": {},
     "output_type": "execute_result"
    }
   ],
   "source": [
    "aspheres.n_points"
   ]
  },
  {
   "cell_type": "markdown",
   "id": "665a7e5a-f60a-4758-8a5f-562180668768",
   "metadata": {},
   "source": [
    "The number of alpha spheres and their centers and radii:"
   ]
  },
  {
   "cell_type": "code",
   "execution_count": 7,
   "id": "dbc9306c-8a8b-4929-8976-e9ff59ce169c",
   "metadata": {},
   "outputs": [
    {
     "data": {
      "text/plain": [
       "4"
      ]
     },
     "execution_count": 7,
     "metadata": {},
     "output_type": "execute_result"
    }
   ],
   "source": [
    "aspheres.n_alpha_spheres"
   ]
  },
  {
   "cell_type": "code",
   "execution_count": 8,
   "id": "1a69b0cf-30ba-4f6f-8463-4eb0efe96c22",
   "metadata": {},
   "outputs": [
    {
     "data": {
      "text/plain": [
       "array([[ 6.5 ,  1.5 , -0.5 ],\n",
       "       [-0.25, -0.75,  1.75],\n",
       "       [ 0.5 ,  1.5 , -0.5 ],\n",
       "       [-1.5 ,  0.5 ,  0.5 ]])"
      ]
     },
     "execution_count": 8,
     "metadata": {},
     "output_type": "execute_result"
    }
   ],
   "source": [
    "aspheres.centers"
   ]
  },
  {
   "cell_type": "code",
   "execution_count": 9,
   "id": "f38886b6-d883-4cd0-b130-c4369c9d452f",
   "metadata": {},
   "outputs": [
    {
     "data": {
      "text/plain": [
       "array([6.68954408, 1.92028644, 1.6583124 , 1.6583124 ])"
      ]
     },
     "execution_count": 9,
     "metadata": {},
     "output_type": "execute_result"
    }
   ],
   "source": [
    "aspheres.radii"
   ]
  },
  {
   "cell_type": "markdown",
   "id": "2cca5718-50b7-4665-80ba-1a0dab788224",
   "metadata": {},
   "source": [
    "Let's check now the list of points of each alpha sphere:"
   ]
  },
  {
   "cell_type": "code",
   "execution_count": 10,
   "id": "20874168-18e6-45b4-980f-4dedc222b3f1",
   "metadata": {},
   "outputs": [
    {
     "data": {
      "text/plain": [
       "array([[1, 2, 3, 4],\n",
       "       [2, 3, 4, 5],\n",
       "       [0, 1, 3, 4],\n",
       "       [0, 3, 4, 5]])"
      ]
     },
     "execution_count": 10,
     "metadata": {},
     "output_type": "execute_result"
    }
   ],
   "source": [
    "aspheres.points_of_alpha_sphere"
   ]
  },
  {
   "cell_type": "markdown",
   "id": "d573e047-49e4-4621-8e72-ce89834476fe",
   "metadata": {},
   "source": [
    "And the list of points in contact with a list of alphaspheres:"
   ]
  },
  {
   "cell_type": "code",
   "execution_count": 11,
   "id": "a85553b9-b970-4479-a550-5a51d2f18fec",
   "metadata": {},
   "outputs": [
    {
     "data": {
      "text/plain": [
       "[0, 2, 3, 4, 5]"
      ]
     },
     "execution_count": 11,
     "metadata": {},
     "output_type": "execute_result"
    }
   ],
   "source": [
    "aspheres.get_points_of_alpha_spheres([1,3])"
   ]
  },
  {
   "cell_type": "markdown",
   "id": "3b6b399f-af8f-4adf-8179-1b6450fc6f96",
   "metadata": {},
   "source": [
    "Finnally, let's remove the alphaspheres with a radius larger than 5.0:"
   ]
  },
  {
   "cell_type": "code",
   "execution_count": 12,
   "id": "0d5e02c4-6a16-4c3e-a8f2-5607c31f3eb8",
   "metadata": {},
   "outputs": [],
   "source": [
    "aspheres.remove_big_alpha_spheres(5.0)"
   ]
  },
  {
   "cell_type": "code",
   "execution_count": 13,
   "id": "0b7c0cec-e8d1-405c-bfa4-509f32104687",
   "metadata": {},
   "outputs": [
    {
     "data": {
      "text/plain": [
       "3"
      ]
     },
     "execution_count": 13,
     "metadata": {},
     "output_type": "execute_result"
    }
   ],
   "source": [
    "aspheres.n_alpha_spheres"
   ]
  },
  {
   "cell_type": "code",
   "execution_count": 14,
   "id": "7773afbc-6807-4afb-b058-97d212cc5950",
   "metadata": {},
   "outputs": [
    {
     "data": {
      "text/plain": [
       "array([1.92028644, 1.6583124 , 1.6583124 ])"
      ]
     },
     "execution_count": 14,
     "metadata": {},
     "output_type": "execute_result"
    }
   ],
   "source": [
    "aspheres.radii"
   ]
  },
  {
   "cell_type": "code",
   "execution_count": 15,
   "id": "8fbb5470-8d77-4206-8d3c-e5475671554a",
   "metadata": {},
   "outputs": [
    {
     "data": {
      "text/plain": [
       "array([[-0.25, -0.75,  1.75],\n",
       "       [ 0.5 ,  1.5 , -0.5 ],\n",
       "       [-1.5 ,  0.5 ,  0.5 ]])"
      ]
     },
     "execution_count": 15,
     "metadata": {},
     "output_type": "execute_result"
    }
   ],
   "source": [
    "aspheres.centers"
   ]
  },
  {
   "cell_type": "markdown",
   "id": "866ce8cf-20f6-437c-a698-b2b95222d566",
   "metadata": {},
   "source": [
    "And let's show a geometrical representation with the support of the NGLView library:"
   ]
  },
  {
   "cell_type": "code",
   "execution_count": 16,
   "id": "64d675c7-89a2-4c88-ab0b-5e8d8a2ab37f",
   "metadata": {},
   "outputs": [
    {
     "data": {
      "application/vnd.jupyter.widget-view+json": {
       "model_id": "7c3daa1acfb04985967f6ea1bd9eb544",
       "version_major": 2,
       "version_minor": 0
      },
      "text/plain": []
     },
     "metadata": {},
     "output_type": "display_data"
    },
    {
     "data": {
      "application/vnd.jupyter.widget-view+json": {
       "model_id": "693cb2bf6b5a40c19a1f846970b0edff",
       "version_major": 2,
       "version_minor": 0
      },
      "text/plain": [
       "NGLWidget()"
      ]
     },
     "metadata": {},
     "output_type": "display_data"
    }
   ],
   "source": [
    "aspheres.view()"
   ]
  },
  {
   "cell_type": "code",
   "execution_count": null,
   "id": "e0652ab1-19ff-4d37-8aa4-b5911132165d",
   "metadata": {},
   "outputs": [],
   "source": []
  }
 ],
 "metadata": {
  "kernelspec": {
   "display_name": "Python 3 (ipykernel)",
   "language": "python",
   "name": "python3"
  },
  "language_info": {
   "codemirror_mode": {
    "name": "ipython",
    "version": 3
   },
   "file_extension": ".py",
   "mimetype": "text/x-python",
   "name": "python",
   "nbconvert_exporter": "python",
   "pygments_lexer": "ipython3",
   "version": "3.9.15"
  }
 },
 "nbformat": 4,
 "nbformat_minor": 5
}
