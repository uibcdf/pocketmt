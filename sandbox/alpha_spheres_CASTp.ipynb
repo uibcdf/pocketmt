{
 "cells": [
  {
   "cell_type": "code",
   "execution_count": 1,
   "id": "5e61b1dc-2bc4-43b1-99dc-c9339a1abb69",
   "metadata": {},
   "outputs": [],
   "source": [
    "%load_ext autoreload\n",
    "%autoreload 2"
   ]
  },
  {
   "cell_type": "markdown",
   "id": "bcfeda5b-e8d7-45ee-9932-795131351b6f",
   "metadata": {},
   "source": [
    "# Getting the pockets of a protein:\n",
    "\n"
   ]
  },
  {
   "cell_type": "markdown",
   "id": "e4105276-2202-4384-b484-b9f15901410c",
   "metadata": {},
   "source": [
    "The libraries `openpocket`, `molsysmt` and `pyunitwizard` are imported:"
   ]
  },
  {
   "cell_type": "code",
   "execution_count": 2,
   "id": "279d8f80-8de5-4ddf-8a3f-2b4d29fd348e",
   "metadata": {},
   "outputs": [
    {
     "data": {
      "application/vnd.jupyter.widget-view+json": {
       "model_id": "00914afb88ba4a25bf04cbb64d1be7df",
       "version_major": 2,
       "version_minor": 0
      },
      "text/plain": []
     },
     "metadata": {},
     "output_type": "display_data"
    }
   ],
   "source": [
    "import molsysmt as msm       # To work with molecular systems\n",
    "import pyunitwizard as puw   # To work with quantities\n",
    "import openpocket as opoc    # To get the cavities, pockets, grooves and channels of a molecule"
   ]
  },
  {
   "cell_type": "code",
   "execution_count": 3,
   "id": "e02771cf-86da-4729-8759-7f5d27b92134",
   "metadata": {},
   "outputs": [],
   "source": [
    "import numpy as np\n",
    "import matplotlib.pyplot as plt"
   ]
  },
  {
   "cell_type": "markdown",
   "id": "c8b6fbb4-afb5-4a20-b0f1-c045bc36a7bc",
   "metadata": {},
   "source": [
    "Let's get the coordinates of the protein with PDB id: 2LAO"
   ]
  },
  {
   "cell_type": "code",
   "execution_count": 6,
   "id": "ad881930-1d3b-42d7-9637-915cfb657a27",
   "metadata": {},
   "outputs": [
    {
     "name": "stderr",
     "output_type": "stream",
     "text": [
      "/home/diego/MyMachine/locals/miniconda3/envs/OpenPocket@dprada_3.9/lib/python3.9/site-packages/molsysmt/item/mmtf_MMTFDecoder/to_molsysmt_Topology.py:32: UserWarning: The structure in the PDB has biological assemblies. There are geometrical transformations proposed in the structure. See the following issue in the source code repository: https://github.com/uibcdf/MolSysMT/issues/33\n",
      "  warnings.warn(warning_message)\n",
      "/home/diego/MyMachine/locals/miniconda3/envs/OpenPocket@dprada_3.9/lib/python3.9/site-packages/molsysmt/item/mmtf_MMTFDecoder/to_molsysmt_Topology.py:32: UserWarning: The structure in the PDB has biological assemblies. There are geometrical transformations proposed in the structure. See the following issue in the source code repository: https://github.com/uibcdf/MolSysMT/issues/33\n",
      "  warnings.warn(warning_message)\n"
     ]
    }
   ],
   "source": [
    "molsys = msm.convert('2xmy', selection='molecule_type==\"protein\"')"
   ]
  },
  {
   "cell_type": "markdown",
   "id": "7b0c2fe7-baf3-4c7c-960d-bb821720dc7e",
   "metadata": {},
   "source": [
    "The protein can be shown in this jupyter notebook with the assitance of `molsysmt` and `nglview`:"
   ]
  },
  {
   "cell_type": "code",
   "execution_count": 7,
   "id": "df10577e-0047-4fb1-8d84-5d988493350f",
   "metadata": {},
   "outputs": [
    {
     "name": "stderr",
     "output_type": "stream",
     "text": [
      "/home/diego/MyMachine/locals/miniconda3/envs/OpenPocket@dprada_3.9/lib/python3.9/site-packages/nglview/adaptor.py:623: NotDigestedArgumentWarning: The digest from molsysmt.basic.convert.convert argument was not digested.Check  for more information. If you still need help, open a new issue in https://github.com/uibcdf/MolSysMT/issues.\n",
      "  self.pdb = msm.convert(molsys, to_form='string:pdb_text', selection=selection, structure_indices=0, digest=False)\n",
      "/home/diego/MyMachine/locals/miniconda3/envs/OpenPocket@dprada_3.9/lib/python3.9/site-packages/nglview/adaptor.py:624: NotDigestedArgumentWarning: The digest from molsysmt.basic.get.get argument was not digested.Check  for more information. If you still need help, open a new issue in https://github.com/uibcdf/MolSysMT/issues.\n",
      "  _coordinates = msm.get(molsys, element='system', structure_indices=structure_indices, coordinates=True, digest=False)\n"
     ]
    },
    {
     "data": {
      "application/vnd.jupyter.widget-view+json": {
       "model_id": "e44d04657604449e8335b45039c81434",
       "version_major": 2,
       "version_minor": 0
      },
      "text/plain": [
       "NGLWidget()"
      ]
     },
     "metadata": {},
     "output_type": "display_data"
    }
   ],
   "source": [
    "msm.view(molsys)"
   ]
  },
  {
   "cell_type": "markdown",
   "id": "fdec0c9e-fba1-4bd8-907c-c8e068b8eab1",
   "metadata": {},
   "source": [
    "Let's get the coordinates of all atoms in the protein:"
   ]
  },
  {
   "cell_type": "code",
   "execution_count": null,
   "id": "6c2812ee-1018-4352-998a-abea6fbf6713",
   "metadata": {},
   "outputs": [],
   "source": [
    "coordinates = msm.get(molsys, coordinates=True)"
   ]
  },
  {
   "cell_type": "code",
   "execution_count": null,
   "id": "e66c7e35-15fd-4686-a5b1-a6c526fd9836",
   "metadata": {},
   "outputs": [],
   "source": [
    "coordinates.shape"
   ]
  },
  {
   "cell_type": "code",
   "execution_count": null,
   "id": "8a29560e-e5bb-4053-aa82-ac39e95368e6",
   "metadata": {},
   "outputs": [],
   "source": [
    "type(coordinates)"
   ]
  },
  {
   "cell_type": "code",
   "execution_count": null,
   "id": "0c507e85-b660-4085-a6f7-6a0f55e040ec",
   "metadata": {},
   "outputs": [],
   "source": [
    "coordinates"
   ]
  },
  {
   "cell_type": "markdown",
   "id": "55970ffb-d557-44ed-a5b7-3d12f7365a24",
   "metadata": {},
   "source": [
    "As you can see, the object `coordinates` y is a quantity with shape [n_structures, n_atoms, 3]. OpenPocket is not ready to work with quantities, and the `AlphaSpheres` class requires an ndarray with shape [n_atoms, 3]. Let's then get the value of the coordinates with the proper shape:"
   ]
  },
  {
   "cell_type": "code",
   "execution_count": null,
   "id": "81ad2bf7-ee34-4616-b3c2-22f42d0fac13",
   "metadata": {},
   "outputs": [],
   "source": [
    "coordinates = puw.get_value(coordinates[0])"
   ]
  },
  {
   "cell_type": "code",
   "execution_count": null,
   "id": "c2d79f50-6592-48e8-9f41-c4a59daf3f54",
   "metadata": {},
   "outputs": [],
   "source": [
    "coordinates.shape"
   ]
  },
  {
   "cell_type": "markdown",
   "id": "d8033d44-35fb-43eb-9321-17115d0b6ad5",
   "metadata": {},
   "source": [
    "The set of alpha spheres defined by the 3 dimensional coordinates of the 1822 atoms in the system can already be obtained:"
   ]
  },
  {
   "cell_type": "code",
   "execution_count": null,
   "id": "1c85d15b-0991-473c-8bb1-4b476260cbb2",
   "metadata": {},
   "outputs": [],
   "source": [
    "alphaspheres = opoc.alpha_spheres.AlphaSpheres(coordinates)"
   ]
  },
  {
   "cell_type": "code",
   "execution_count": null,
   "id": "551620cd-3dc1-4170-8c05-a516243219a0",
   "metadata": {},
   "outputs": [],
   "source": [
    "alphaspheres.n_alpha_spheres"
   ]
  },
  {
   "cell_type": "markdown",
   "id": "490ae5a1-d1ee-4855-b016-7c53e34ac15d",
   "metadata": {},
   "source": [
    "What are we going to do with them?\n",
    "(hint: we should remove the small and big alpha spheres, and the resulting ones have to be clusterized)"
   ]
  },
  {
   "cell_type": "code",
   "execution_count": null,
   "id": "78b6a51c-990c-4b9b-a874-ff91d3b545bb",
   "metadata": {},
   "outputs": [],
   "source": [
    "alphaspheres.radii.max()"
   ]
  },
  {
   "cell_type": "code",
   "execution_count": null,
   "id": "823b4f63-d8fc-4006-81a9-270665b237f5",
   "metadata": {},
   "outputs": [],
   "source": [
    "plt.hist(alphaspheres.radii, bins=1000, range=[0,2])\n",
    "plt.show()"
   ]
  },
  {
   "cell_type": "code",
   "execution_count": null,
   "id": "fafdf5e3-11dd-4de9-ae92-832be7e9e829",
   "metadata": {},
   "outputs": [],
   "source": []
  }
 ],
 "metadata": {
  "kernelspec": {
   "display_name": "Python 3 (ipykernel)",
   "language": "python",
   "name": "python3"
  },
  "language_info": {
   "codemirror_mode": {
    "name": "ipython",
    "version": 3
   },
   "file_extension": ".py",
   "mimetype": "text/x-python",
   "name": "python",
   "nbconvert_exporter": "python",
   "pygments_lexer": "ipython3",
   "version": "3.9.15"
  }
 },
 "nbformat": 4,
 "nbformat_minor": 5
}
