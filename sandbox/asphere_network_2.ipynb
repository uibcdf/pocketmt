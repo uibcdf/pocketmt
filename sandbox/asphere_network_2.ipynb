{
 "cells": [
  {
   "cell_type": "markdown",
   "id": "9048bacc-ac28-4c5e-ba36-9561a96d099b",
   "metadata": {},
   "source": [
    "# Test alpha-spheres network 2"
   ]
  },
  {
   "cell_type": "code",
   "execution_count": 1,
   "id": "cf7aef0d-3ef9-4060-a568-8a672f10998a",
   "metadata": {},
   "outputs": [
    {
     "data": {
      "application/vnd.jupyter.widget-view+json": {
       "model_id": "ca6e4d5e0edb4d1a9502d4f3f72de2d9",
       "version_major": 2,
       "version_minor": 0
      },
      "text/plain": []
     },
     "metadata": {},
     "output_type": "display_data"
    }
   ],
   "source": [
    "import molsysmt as msm"
   ]
  },
  {
   "cell_type": "code",
   "execution_count": 2,
   "id": "57c90a91-34c2-4510-be45-71310cf88ee6",
   "metadata": {},
   "outputs": [],
   "source": [
    "from scipy.spatial import Voronoi\n",
    "from math import sqrt"
   ]
  },
  {
   "cell_type": "code",
   "execution_count": 3,
   "id": "7281f39b-3070-48fe-afe6-7dd8de4d16d1",
   "metadata": {},
   "outputs": [],
   "source": [
    "from scipy.spatial.distance import euclidean"
   ]
  },
  {
   "cell_type": "code",
   "execution_count": 4,
   "id": "7cf4b593-d09e-498c-b8f8-94687751e6b4",
   "metadata": {},
   "outputs": [],
   "source": [
    "import numpy as np"
   ]
  },
  {
   "cell_type": "code",
   "execution_count": 5,
   "id": "fe1438b3-4490-4a14-9c0f-1f40cbdf07f1",
   "metadata": {},
   "outputs": [],
   "source": [
    "from tqdm import tqdm"
   ]
  },
  {
   "cell_type": "code",
   "execution_count": 6,
   "id": "8966ae59-7fcc-4056-9b3d-227b4b7f0869",
   "metadata": {},
   "outputs": [],
   "source": [
    "from test import is_permeable_2, is_permeable_3, is_permeable_4"
   ]
  },
  {
   "cell_type": "code",
   "execution_count": 7,
   "id": "77c9fff6-bce6-4300-9988-84f06615f08c",
   "metadata": {},
   "outputs": [],
   "source": [
    "molecular_system = msm.convert('1HIV')\n",
    "molecular_system = msm.extract(molecular_system, selection='molecule_type in [\"protein\", \"peptide\"]')"
   ]
  },
  {
   "cell_type": "code",
   "execution_count": 8,
   "id": "1217e661-a40b-43f6-8d5c-d297871c1039",
   "metadata": {},
   "outputs": [
    {
     "data": {
      "text/html": [
       "<style type=\"text/css\">\n",
       "</style>\n",
       "<table id=\"T_16424\">\n",
       "  <thead>\n",
       "    <tr>\n",
       "      <th id=\"T_16424_level0_col0\" class=\"col_heading level0 col0\" >form</th>\n",
       "      <th id=\"T_16424_level0_col1\" class=\"col_heading level0 col1\" >n_atoms</th>\n",
       "      <th id=\"T_16424_level0_col2\" class=\"col_heading level0 col2\" >n_groups</th>\n",
       "      <th id=\"T_16424_level0_col3\" class=\"col_heading level0 col3\" >n_components</th>\n",
       "      <th id=\"T_16424_level0_col4\" class=\"col_heading level0 col4\" >n_chains</th>\n",
       "      <th id=\"T_16424_level0_col5\" class=\"col_heading level0 col5\" >n_molecules</th>\n",
       "      <th id=\"T_16424_level0_col6\" class=\"col_heading level0 col6\" >n_entities</th>\n",
       "      <th id=\"T_16424_level0_col7\" class=\"col_heading level0 col7\" >n_proteins</th>\n",
       "      <th id=\"T_16424_level0_col8\" class=\"col_heading level0 col8\" >n_structures</th>\n",
       "    </tr>\n",
       "  </thead>\n",
       "  <tbody>\n",
       "    <tr>\n",
       "      <td id=\"T_16424_row0_col0\" class=\"data row0 col0\" >molsysmt.MolSys</td>\n",
       "      <td id=\"T_16424_row0_col1\" class=\"data row0 col1\" >1516</td>\n",
       "      <td id=\"T_16424_row0_col2\" class=\"data row0 col2\" >198</td>\n",
       "      <td id=\"T_16424_row0_col3\" class=\"data row0 col3\" >2</td>\n",
       "      <td id=\"T_16424_row0_col4\" class=\"data row0 col4\" >2</td>\n",
       "      <td id=\"T_16424_row0_col5\" class=\"data row0 col5\" >2</td>\n",
       "      <td id=\"T_16424_row0_col6\" class=\"data row0 col6\" >1</td>\n",
       "      <td id=\"T_16424_row0_col7\" class=\"data row0 col7\" >2</td>\n",
       "      <td id=\"T_16424_row0_col8\" class=\"data row0 col8\" >1</td>\n",
       "    </tr>\n",
       "  </tbody>\n",
       "</table>\n"
      ],
      "text/plain": [
       "<pandas.io.formats.style.Styler at 0x7f9b51cc7d90>"
      ]
     },
     "execution_count": 8,
     "metadata": {},
     "output_type": "execute_result"
    }
   ],
   "source": [
    "msm.info(molecular_system)"
   ]
  },
  {
   "cell_type": "markdown",
   "id": "8219baa1-43a9-412a-a6ed-665bfd982e97",
   "metadata": {},
   "source": [
    "## Castp"
   ]
  },
  {
   "cell_type": "code",
   "execution_count": 9,
   "id": "0ebdb631-ae49-4641-ac36-296352aa159c",
   "metadata": {},
   "outputs": [],
   "source": [
    "pocket = []\n",
    "with open('castp/1hiv/1hiv.poc') as file:\n",
    "    for line in file:\n",
    "        fields = line.rstrip().split()\n",
    "        if fields[-2]=='1':\n",
    "            pocket.append(int(fields[1]))\n",
    "\n",
    "pocket = msm.get(molecular_system, element='atom', selection='atom_id==@pocket', atom_index=True)"
   ]
  },
  {
   "cell_type": "code",
   "execution_count": 10,
   "id": "0f4ffa2c-530d-49cb-942a-b5b73be7ce3d",
   "metadata": {},
   "outputs": [
    {
     "data": {
      "application/vnd.jupyter.widget-view+json": {
       "model_id": "b5c136a3e3634d80b475511159461cf8",
       "version_major": 2,
       "version_minor": 0
      },
      "text/plain": [
       "NGLWidget()"
      ]
     },
     "metadata": {},
     "output_type": "display_data"
    }
   ],
   "source": [
    "view=msm.view(molecular_system)\n",
    "view"
   ]
  },
  {
   "cell_type": "code",
   "execution_count": 11,
   "id": "1eb9b65c-6618-4787-97e1-637fa55826ab",
   "metadata": {},
   "outputs": [],
   "source": [
    "view.clear()\n",
    "#view.add_surface(color='w', opacity=0.5)\n",
    "view.add_ball_and_stick(color='w', opacity=0.5)"
   ]
  },
  {
   "cell_type": "code",
   "execution_count": 12,
   "id": "14eae0cb-999e-4817-ad58-55998a4ef9f5",
   "metadata": {},
   "outputs": [],
   "source": [
    "sel='@'+','.join([str(ii) for ii in pocket])\n",
    "#view.add_surface(sel, color='red', opacity=0.3)\n",
    "view.add_ball_and_stick(sel, color='red', opacity=0.3)"
   ]
  },
  {
   "cell_type": "code",
   "execution_count": 13,
   "id": "41bbf137-a658-4caf-a49d-16a823b485fc",
   "metadata": {},
   "outputs": [
    {
     "data": {
      "text/plain": [
       "array([  66,   67,   68,   69,   70,   71,  180,  181,  196,  197,  201,\n",
       "        206,  207,  208,  210,  211,  213,  214,  218,  219,  220,  221,\n",
       "        222,  225,  226,  229,  243,  365,  367,  368,  369,  370,  371,\n",
       "        372,  373,  374,  375,  376,  377,  378,  381,  382,  383,  401,\n",
       "        402,  403,  585,  610,  616,  617,  618,  624,  625,  640,  641,\n",
       "        661,  825,  826,  827,  828,  829,  830,  939,  940,  956,  960,\n",
       "        965,  966,  967,  969,  970,  972,  973,  977,  978,  979,  980,\n",
       "        981,  984,  985,  988, 1002, 1121, 1124, 1126, 1127, 1128, 1129,\n",
       "       1130, 1131, 1132, 1133, 1136, 1140, 1141, 1143, 1161, 1162, 1370,\n",
       "       1376, 1377, 1383, 1399, 1400, 1420])"
      ]
     },
     "execution_count": 13,
     "metadata": {},
     "output_type": "execute_result"
    }
   ],
   "source": [
    "pocket"
   ]
  },
  {
   "cell_type": "markdown",
   "id": "e81af67c-c789-4ae0-a14c-4b3e30a838bb",
   "metadata": {},
   "source": [
    "# Mine"
   ]
  },
  {
   "cell_type": "code",
   "execution_count": 14,
   "id": "43cb8a87-9e0d-4d8c-bcef-f5c4b7a9029c",
   "metadata": {},
   "outputs": [],
   "source": [
    "radio = {'C': 1.7, 'H':1.1, 'O':1.52, 'N':1.55, 'P':1.8, 'S':1.8}"
   ]
  },
  {
   "cell_type": "code",
   "execution_count": 15,
   "id": "2de0e668-4c55-4a02-be07-3fe5cb4fb5e2",
   "metadata": {},
   "outputs": [],
   "source": [
    "coordinates = msm.get(molecular_system, coordinates=True)"
   ]
  },
  {
   "cell_type": "code",
   "execution_count": 16,
   "id": "ce0f6674-38a0-44fb-b284-ca4b063b4d61",
   "metadata": {},
   "outputs": [],
   "source": [
    "coordinates = msm.pyunitwizard.get_value(coordinates[0])\n",
    "n_atoms = coordinates.shape[0]"
   ]
  },
  {
   "cell_type": "code",
   "execution_count": 17,
   "id": "130fc7c6-07ab-442b-a658-7b36e8690bc5",
   "metadata": {},
   "outputs": [],
   "source": [
    "atom_types = msm.get(molecular_system, element='atom', atom_type=True)\n",
    "radii = np.array([radio[ii]*0.1 for ii in atom_types])\n",
    "probe = 0.1"
   ]
  },
  {
   "cell_type": "code",
   "execution_count": 18,
   "id": "5b822761-7b4f-457e-a158-8b7914c33fd6",
   "metadata": {},
   "outputs": [],
   "source": [
    "voronoi = Voronoi(coordinates)"
   ]
  },
  {
   "cell_type": "code",
   "execution_count": 19,
   "id": "be1f6801-4576-41bc-805c-4beb2271cf2e",
   "metadata": {},
   "outputs": [],
   "source": [
    "centers = voronoi.vertices\n",
    "n_alphaspheres = centers.shape[0]"
   ]
  },
  {
   "cell_type": "code",
   "execution_count": 20,
   "id": "79553fd9-1ce0-4a16-8e1c-02be9a3ee2f7",
   "metadata": {},
   "outputs": [],
   "source": [
    "atoms_of_alphasphere = {ii:[] for ii in range(n_alphaspheres)}\n",
    "atoms_of_alphasphere[-1] = []\n",
    "alphaspheres_of_atom = {ii:[] for ii in range(n_atoms)}"
   ]
  },
  {
   "cell_type": "code",
   "execution_count": 21,
   "id": "a00c85fa-d318-4fe3-8e79-ff484ca9b57e",
   "metadata": {},
   "outputs": [],
   "source": [
    "for atom_index, region_index in enumerate(voronoi.point_region):\n",
    "    for alphasphere_index in voronoi.regions[region_index]:\n",
    "        atoms_of_alphasphere[alphasphere_index].append(atom_index)\n",
    "        alphaspheres_of_atom[atom_index].append(alphasphere_index)"
   ]
  },
  {
   "cell_type": "code",
   "execution_count": 22,
   "id": "13806276-e97b-4032-a238-60608f7314cf",
   "metadata": {},
   "outputs": [],
   "source": [
    "alphaspheres_in_castp = []\n",
    "for ii in range(n_alphaspheres):\n",
    "    if np.isin(atoms_of_alphasphere[ii], pocket).all():\n",
    "        alphaspheres_in_castp.append(ii)"
   ]
  },
  {
   "cell_type": "code",
   "execution_count": 23,
   "id": "75eb9900-36fa-458c-a193-6e45f281d622",
   "metadata": {},
   "outputs": [],
   "source": [
    "#alphaspheres_in_castp"
   ]
  },
  {
   "cell_type": "code",
   "execution_count": 24,
   "id": "1467d933-ae0e-49af-bbe5-518495b2065e",
   "metadata": {},
   "outputs": [
    {
     "data": {
      "text/plain": [
       "9548"
      ]
     },
     "execution_count": 24,
     "metadata": {},
     "output_type": "execute_result"
    }
   ],
   "source": [
    "alphaspheres_in_castp[-1]"
   ]
  },
  {
   "cell_type": "code",
   "execution_count": 25,
   "id": "b1874e7e-46ad-4c6a-bfc9-3a2145620434",
   "metadata": {},
   "outputs": [
    {
     "data": {
      "text/plain": [
       "[610, 617, 618, 1140]"
      ]
     },
     "execution_count": 25,
     "metadata": {},
     "output_type": "execute_result"
    }
   ],
   "source": [
    "atoms_of_alphasphere[9548]"
   ]
  },
  {
   "cell_type": "code",
   "execution_count": 26,
   "id": "f3afe92d-946e-4d29-83bc-3af42b80bda2",
   "metadata": {},
   "outputs": [
    {
     "data": {
      "text/plain": [
       "array([  66,   67,   68,   69,   70,   71,  180,  181,  196,  197,  201,\n",
       "        206,  207,  208,  210,  211,  213,  214,  218,  219,  220,  221,\n",
       "        222,  225,  226,  229,  243,  365,  367,  368,  369,  370,  371,\n",
       "        372,  373,  374,  375,  376,  377,  378,  381,  382,  383,  401,\n",
       "        402,  403,  585,  610,  616,  617,  618,  624,  625,  640,  641,\n",
       "        661,  825,  826,  827,  828,  829,  830,  939,  940,  956,  960,\n",
       "        965,  966,  967,  969,  970,  972,  973,  977,  978,  979,  980,\n",
       "        981,  984,  985,  988, 1002, 1121, 1124, 1126, 1127, 1128, 1129,\n",
       "       1130, 1131, 1132, 1133, 1136, 1140, 1141, 1143, 1161, 1162, 1370,\n",
       "       1376, 1377, 1383, 1399, 1400, 1420])"
      ]
     },
     "execution_count": 26,
     "metadata": {},
     "output_type": "execute_result"
    }
   ],
   "source": [
    "pocket"
   ]
  },
  {
   "cell_type": "code",
   "execution_count": 27,
   "id": "4d46e7b4-ef9a-4e79-8603-3e6cd01e23fa",
   "metadata": {},
   "outputs": [
    {
     "name": "stderr",
     "output_type": "stream",
     "text": [
      "100%|██████████████████████████████████████████████████████████████████████████████████████████████████████████████████████████████████| 9811/9811 [00:07<00:00, 1300.19it/s]\n"
     ]
    }
   ],
   "source": [
    "import networkx as nx\n",
    "\n",
    "rp = 0.3\n",
    "\n",
    "G = nx.Graph()\n",
    "\n",
    "for ii in tqdm(range(-1,n_alphaspheres)):\n",
    "\n",
    "    G.add_node(ii)\n",
    "    \n",
    "    neighbors=[]\n",
    "    for jj in atoms_of_alphasphere[ii]:\n",
    "        for kk in alphaspheres_of_atom[jj]:\n",
    "            if kk>ii:\n",
    "                neighbors.append(kk)\n",
    "    neighbors=np.unique(neighbors)\n",
    "    \n",
    "    for jj in neighbors:\n",
    "        common = np.intersect1d(atoms_of_alphasphere[ii], atoms_of_alphasphere[jj], assume_unique=True)\n",
    "        if len(common)==2:\n",
    "            discs = coordinates[common]\n",
    "            rs = radii[common]\n",
    "            if is_permeable_2(rp, discs, rs):\n",
    "                G.add_edge(ii,jj,face=common)            \n",
    "        elif len(common)==3:\n",
    "            discs = coordinates[common]\n",
    "            rs = radii[common]\n",
    "            if is_permeable_3(rp, discs, rs):\n",
    "                G.add_edge(ii,jj,face=common)\n",
    "        elif len(common)==4:\n",
    "            discs = coordinates[common]\n",
    "            rs = radii[common]\n",
    "            if is_permeable_4(rp, discs, rs):\n",
    "                G.add_edge(ii,jj,face=common)\n",
    "        elif len(common)>4:\n",
    "            print('ups')"
   ]
  },
  {
   "cell_type": "code",
   "execution_count": 28,
   "id": "a79e24e7-80a9-44a1-a56f-edc5c9c25bd4",
   "metadata": {},
   "outputs": [
    {
     "data": {
      "text/plain": [
       "2181"
      ]
     },
     "execution_count": 28,
     "metadata": {},
     "output_type": "execute_result"
    }
   ],
   "source": [
    "G.number_of_edges()"
   ]
  },
  {
   "cell_type": "code",
   "execution_count": 29,
   "id": "f57d27c4-9c22-4ab3-976d-85efff0ac62f",
   "metadata": {},
   "outputs": [
    {
     "data": {
      "text/plain": [
       "9811"
      ]
     },
     "execution_count": 29,
     "metadata": {},
     "output_type": "execute_result"
    }
   ],
   "source": [
    "G.number_of_nodes()"
   ]
  },
  {
   "cell_type": "code",
   "execution_count": 30,
   "id": "a8fef7d7-ce38-4537-840e-476d990f2b7a",
   "metadata": {},
   "outputs": [],
   "source": [
    "components = nx.connected_components(G)"
   ]
  },
  {
   "cell_type": "code",
   "execution_count": 31,
   "id": "f91c85da-5707-4a2f-81d5-a3f75705196e",
   "metadata": {},
   "outputs": [],
   "source": [
    "veo = list(components)"
   ]
  },
  {
   "cell_type": "code",
   "execution_count": 32,
   "id": "caa2e47a-f587-45e0-a504-0fdb1e5c26e1",
   "metadata": {},
   "outputs": [
    {
     "data": {
      "text/plain": [
       "9150"
      ]
     },
     "execution_count": 32,
     "metadata": {},
     "output_type": "execute_result"
    }
   ],
   "source": [
    "len(veo)"
   ]
  },
  {
   "cell_type": "code",
   "execution_count": 33,
   "id": "9250673b-d9fd-4cee-9d31-c595f6fa6711",
   "metadata": {},
   "outputs": [
    {
     "data": {
      "text/plain": [
       "653"
      ]
     },
     "execution_count": 33,
     "metadata": {},
     "output_type": "execute_result"
    }
   ],
   "source": [
    "len(veo[0])"
   ]
  },
  {
   "cell_type": "code",
   "execution_count": null,
   "id": "3ddd37c6-d9f8-40cc-b619-5e6b1b456c38",
   "metadata": {},
   "outputs": [],
   "source": [
    "asphere_A = alphaspheres_in_castp[0]\n",
    "asphere_B = alphaspheres_in_castp[2]\n",
    "\n",
    "asphere_A = 8007\n",
    "asphere_B =8008\n",
    "\n",
    "face = G[asphere_A][asphere_B]['face']\n",
    "face_coordinates = coordinates[face]"
   ]
  },
  {
   "cell_type": "code",
   "execution_count": null,
   "id": "d67857c6-bb0c-42c8-921c-091ce03e2bd8",
   "metadata": {},
   "outputs": [],
   "source": [
    "face_coordinates.mean(axis=1)"
   ]
  },
  {
   "cell_type": "code",
   "execution_count": null,
   "id": "888287b8-7e76-47d3-86dd-ab16b7fc3727",
   "metadata": {},
   "outputs": [],
   "source": [
    "centroid = face_coordinates.mean(axis=1)"
   ]
  },
  {
   "cell_type": "code",
   "execution_count": null,
   "id": "8ce7c0e1-ad9d-48db-a2ca-71ba374db809",
   "metadata": {},
   "outputs": [],
   "source": [
    "euclidean(centroid, face_coordinates[0])"
   ]
  },
  {
   "cell_type": "code",
   "execution_count": null,
   "id": "e0d774c7-a5e4-4458-ad61-2459bea11b25",
   "metadata": {},
   "outputs": [],
   "source": [
    "euclidean(centroid, face_coordinates[1])"
   ]
  },
  {
   "cell_type": "code",
   "execution_count": null,
   "id": "ee9ec213-14d4-4405-8039-4d10ea43ba7f",
   "metadata": {},
   "outputs": [],
   "source": [
    "euclidean(centroid, face_coordinates[2])"
   ]
  },
  {
   "cell_type": "code",
   "execution_count": null,
   "id": "93ebed80-6776-415e-a175-b4c6ad2b73f3",
   "metadata": {},
   "outputs": [],
   "source": [
    "view=msm.view(molecular_system)\n",
    "\n",
    "view.clear()\n",
    "#view.add_surface(color='w', opacity=0.5)\n",
    "view.add_ball_and_stick(color='w', opacity=0.5)\n",
    "\n",
    "for ii in veo[0]:\n",
    "    if ii in G[-1]:\n",
    "        aa=atoms_of_alphasphere[ii]\n",
    "        view.shape.add_cylinder(coordinates[aa[0]]*10, coordinates[aa[1]]*10, [1,0,0], 0.1)\n",
    "        view.shape.add_cylinder(coordinates[aa[0]]*10, coordinates[aa[2]]*10, [1,0,0], 0.1)\n",
    "        view.shape.add_cylinder(coordinates[aa[0]]*10, coordinates[aa[3]]*10, [1,0,0], 0.1)\n",
    "        view.shape.add_cylinder(coordinates[aa[1]]*10, coordinates[aa[2]]*10, [1,0,0], 0.1)\n",
    "        view.shape.add_cylinder(coordinates[aa[1]]*10, coordinates[aa[3]]*10, [1,0,0], 0.1)\n",
    "        view.shape.add_cylinder(coordinates[aa[2]]*10, coordinates[aa[3]]*10, [1,0,0], 0.1)\n",
    "\n",
    "view"
   ]
  },
  {
   "cell_type": "code",
   "execution_count": null,
   "id": "bf600076-3883-4895-b372-ff5c9f9583d2",
   "metadata": {},
   "outputs": [],
   "source": []
  },
  {
   "cell_type": "code",
   "execution_count": null,
   "id": "ed9a1e6a-08e9-4d4b-a415-3196ad193630",
   "metadata": {},
   "outputs": [],
   "source": []
  }
 ],
 "metadata": {
  "kernelspec": {
   "display_name": "Python 3 (ipykernel)",
   "language": "python",
   "name": "python3"
  },
  "language_info": {
   "codemirror_mode": {
    "name": "ipython",
    "version": 3
   },
   "file_extension": ".py",
   "mimetype": "text/x-python",
   "name": "python",
   "nbconvert_exporter": "python",
   "pygments_lexer": "ipython3",
   "version": "3.10.12"
  }
 },
 "nbformat": 4,
 "nbformat_minor": 5
}
