{
 "cells": [
  {
   "cell_type": "markdown",
   "id": "9048bacc-ac28-4c5e-ba36-9561a96d099b",
   "metadata": {},
   "source": [
    "# Test alpha-spheres network"
   ]
  },
  {
   "cell_type": "code",
   "execution_count": 1,
   "id": "cf7aef0d-3ef9-4060-a568-8a672f10998a",
   "metadata": {},
   "outputs": [
    {
     "data": {
      "application/vnd.jupyter.widget-view+json": {
       "model_id": "f6addd44b7e64f2196d19aaba97a52fe",
       "version_major": 2,
       "version_minor": 0
      },
      "text/plain": []
     },
     "metadata": {},
     "output_type": "display_data"
    }
   ],
   "source": [
    "import molsysmt as msm"
   ]
  },
  {
   "cell_type": "code",
   "execution_count": 2,
   "id": "57c90a91-34c2-4510-be45-71310cf88ee6",
   "metadata": {},
   "outputs": [],
   "source": [
    "from scipy.spatial import Voronoi\n",
    "from math import sqrt"
   ]
  },
  {
   "cell_type": "code",
   "execution_count": 3,
   "id": "7281f39b-3070-48fe-afe6-7dd8de4d16d1",
   "metadata": {},
   "outputs": [],
   "source": [
    "from scipy.spatial.distance import euclidean"
   ]
  },
  {
   "cell_type": "code",
   "execution_count": 4,
   "id": "7cf4b593-d09e-498c-b8f8-94687751e6b4",
   "metadata": {},
   "outputs": [],
   "source": [
    "import numpy as np"
   ]
  },
  {
   "cell_type": "code",
   "execution_count": 5,
   "id": "fe1438b3-4490-4a14-9c0f-1f40cbdf07f1",
   "metadata": {},
   "outputs": [],
   "source": [
    "from tqdm import tqdm"
   ]
  },
  {
   "cell_type": "code",
   "execution_count": 30,
   "id": "77c9fff6-bce6-4300-9988-84f06615f08c",
   "metadata": {},
   "outputs": [],
   "source": [
    "molecular_system = msm.convert('1HIV')\n",
    "molecular_system = msm.extract(molecular_system, selection='molecule_type in [\"protein\", \"peptide\"]')"
   ]
  },
  {
   "cell_type": "code",
   "execution_count": 31,
   "id": "1217e661-a40b-43f6-8d5c-d297871c1039",
   "metadata": {},
   "outputs": [
    {
     "data": {
      "text/html": [
       "<style type=\"text/css\">\n",
       "</style>\n",
       "<table id=\"T_4b637\">\n",
       "  <thead>\n",
       "    <tr>\n",
       "      <th id=\"T_4b637_level0_col0\" class=\"col_heading level0 col0\" >form</th>\n",
       "      <th id=\"T_4b637_level0_col1\" class=\"col_heading level0 col1\" >n_atoms</th>\n",
       "      <th id=\"T_4b637_level0_col2\" class=\"col_heading level0 col2\" >n_groups</th>\n",
       "      <th id=\"T_4b637_level0_col3\" class=\"col_heading level0 col3\" >n_components</th>\n",
       "      <th id=\"T_4b637_level0_col4\" class=\"col_heading level0 col4\" >n_chains</th>\n",
       "      <th id=\"T_4b637_level0_col5\" class=\"col_heading level0 col5\" >n_molecules</th>\n",
       "      <th id=\"T_4b637_level0_col6\" class=\"col_heading level0 col6\" >n_entities</th>\n",
       "      <th id=\"T_4b637_level0_col7\" class=\"col_heading level0 col7\" >n_proteins</th>\n",
       "      <th id=\"T_4b637_level0_col8\" class=\"col_heading level0 col8\" >n_structures</th>\n",
       "    </tr>\n",
       "  </thead>\n",
       "  <tbody>\n",
       "    <tr>\n",
       "      <td id=\"T_4b637_row0_col0\" class=\"data row0 col0\" >molsysmt.MolSys</td>\n",
       "      <td id=\"T_4b637_row0_col1\" class=\"data row0 col1\" >1516</td>\n",
       "      <td id=\"T_4b637_row0_col2\" class=\"data row0 col2\" >198</td>\n",
       "      <td id=\"T_4b637_row0_col3\" class=\"data row0 col3\" >2</td>\n",
       "      <td id=\"T_4b637_row0_col4\" class=\"data row0 col4\" >2</td>\n",
       "      <td id=\"T_4b637_row0_col5\" class=\"data row0 col5\" >2</td>\n",
       "      <td id=\"T_4b637_row0_col6\" class=\"data row0 col6\" >1</td>\n",
       "      <td id=\"T_4b637_row0_col7\" class=\"data row0 col7\" >2</td>\n",
       "      <td id=\"T_4b637_row0_col8\" class=\"data row0 col8\" >1</td>\n",
       "    </tr>\n",
       "  </tbody>\n",
       "</table>\n"
      ],
      "text/plain": [
       "<pandas.io.formats.style.Styler at 0x7f65527744c0>"
      ]
     },
     "execution_count": 31,
     "metadata": {},
     "output_type": "execute_result"
    }
   ],
   "source": [
    "msm.info(molecular_system)"
   ]
  },
  {
   "cell_type": "code",
   "execution_count": 32,
   "id": "2de0e668-4c55-4a02-be07-3fe5cb4fb5e2",
   "metadata": {},
   "outputs": [],
   "source": [
    "coordinates = msm.get(molecular_system, coordinates=True)"
   ]
  },
  {
   "cell_type": "code",
   "execution_count": 33,
   "id": "ce0f6674-38a0-44fb-b284-ca4b063b4d61",
   "metadata": {},
   "outputs": [],
   "source": [
    "coordinates = msm.pyunitwizard.get_value(coordinates[0])\n",
    "n_atoms = coordinates.shape[0]"
   ]
  },
  {
   "cell_type": "code",
   "execution_count": 34,
   "id": "130fc7c6-07ab-442b-a658-7b36e8690bc5",
   "metadata": {},
   "outputs": [],
   "source": [
    "radii = [0.2 for ii in range(n_atoms)]\n",
    "probe = 0.1"
   ]
  },
  {
   "cell_type": "code",
   "execution_count": 35,
   "id": "5b822761-7b4f-457e-a158-8b7914c33fd6",
   "metadata": {},
   "outputs": [],
   "source": [
    "voronoi = Voronoi(coordinates)"
   ]
  },
  {
   "cell_type": "code",
   "execution_count": 36,
   "id": "be1f6801-4576-41bc-805c-4beb2271cf2e",
   "metadata": {},
   "outputs": [],
   "source": [
    "centers = voronoi.vertices\n",
    "n_alphaspheres = centers.shape[0]"
   ]
  },
  {
   "cell_type": "code",
   "execution_count": 37,
   "id": "79553fd9-1ce0-4a16-8e1c-02be9a3ee2f7",
   "metadata": {},
   "outputs": [],
   "source": [
    "atoms_of_alphasphere = {ii:[] for ii in range(n_alphaspheres)}\n",
    "atoms_of_alphasphere[-1] = []\n",
    "alphaspheres_of_atom = {ii:[] for ii in range(n_atoms)}"
   ]
  },
  {
   "cell_type": "code",
   "execution_count": 38,
   "id": "a00c85fa-d318-4fe3-8e79-ff484ca9b57e",
   "metadata": {},
   "outputs": [],
   "source": [
    "for atom_index, region_index in enumerate(voronoi.point_region):\n",
    "    for alphasphere_index in voronoi.regions[region_index]:\n",
    "        atoms_of_alphasphere[alphasphere_index].append(atom_index)\n",
    "        alphaspheres_of_atom[atom_index].append(alphasphere_index)"
   ]
  },
  {
   "cell_type": "code",
   "execution_count": 39,
   "id": "ebef269b-ce7e-4e2f-8883-cce7b9b8615a",
   "metadata": {},
   "outputs": [],
   "source": [
    "def atoms_are_permeable(atom_indices, coordinates, radii, probe_radius):\n",
    "\n",
    "    centroid = coordinates[atom_indices,:].mean(axis=0)\n",
    "\n",
    "    permeable=True\n",
    "    \n",
    "    for atom_index in atom_indices:\n",
    "        distance = euclidean(coordinates[atom_index], centroid)\n",
    "        if distance < radii[atom_index]+probe_radius:\n",
    "            permeable=False\n",
    "            break\n",
    "\n",
    "    return permeable"
   ]
  },
  {
   "cell_type": "code",
   "execution_count": 41,
   "id": "ef3524d6-ff33-476c-b1a4-4b4ef9cf822e",
   "metadata": {},
   "outputs": [
    {
     "name": "stderr",
     "output_type": "stream",
     "text": [
      "100%|████████████████████████████████████████████████████████████████████████████████████████████████████████████████████████████████| 11374/11374 [00:02<00:00, 4168.46it/s]\n"
     ]
    }
   ],
   "source": [
    "edges=[]\n",
    "permeability={}\n",
    "\n",
    "for kk in tqdm(range(len(voronoi.ridge_vertices))):\n",
    "    \n",
    "    aux_ridge_vertices = np.sort(voronoi.ridge_vertices[kk])\n",
    "    n = len(aux_ridge_vertices)\n",
    "\n",
    "    for ii in range(n):\n",
    "        aa = aux_ridge_vertices[ii]\n",
    "        if aa!=-1:\n",
    "            for jj in range(ii+1,n):\n",
    "                bb = aux_ridge_vertices[jj]\n",
    "                common = np.intersect1d(atoms_of_alphasphere[aa], atoms_of_alphasphere[bb], assume_unique=True)\n",
    "                common = tuple(common)\n",
    "                if len(common)>2:\n",
    "                    if common not in permeability:\n",
    "                        with_edge = atoms_are_permeable(common, coordinates, radii, probe)\n",
    "                        permeability[common]=with_edge\n",
    "                        if with_edge:\n",
    "                            edges.append([aa,bb])"
   ]
  },
  {
   "cell_type": "code",
   "execution_count": 42,
   "id": "5e1b8b0e-823d-4201-b17a-c4bea8802588",
   "metadata": {},
   "outputs": [
    {
     "data": {
      "text/plain": [
       "864"
      ]
     },
     "execution_count": 42,
     "metadata": {},
     "output_type": "execute_result"
    }
   ],
   "source": [
    "len(edges)"
   ]
  },
  {
   "cell_type": "code",
   "execution_count": 43,
   "id": "abb74456-f64b-422d-bacf-d2098b6aca8d",
   "metadata": {},
   "outputs": [],
   "source": [
    "import networkx as nx"
   ]
  },
  {
   "cell_type": "code",
   "execution_count": 44,
   "id": "c31562b2-ecb3-421a-aad3-fccfeda0dd86",
   "metadata": {},
   "outputs": [],
   "source": [
    "G = nx.Graph(edges)"
   ]
  },
  {
   "cell_type": "code",
   "execution_count": 45,
   "id": "32956468-5f61-4af7-a287-a68d0472c6a1",
   "metadata": {},
   "outputs": [
    {
     "data": {
      "text/plain": [
       "863"
      ]
     },
     "execution_count": 45,
     "metadata": {},
     "output_type": "execute_result"
    }
   ],
   "source": [
    "G.number_of_nodes()"
   ]
  },
  {
   "cell_type": "code",
   "execution_count": 46,
   "id": "437ea382-4c32-4215-9a31-302d51706544",
   "metadata": {},
   "outputs": [
    {
     "data": {
      "text/plain": [
       "9810"
      ]
     },
     "execution_count": 46,
     "metadata": {},
     "output_type": "execute_result"
    }
   ],
   "source": [
    "n_alphaspheres"
   ]
  },
  {
   "cell_type": "code",
   "execution_count": 47,
   "id": "74796978-e53f-450c-82d9-7670831b3794",
   "metadata": {},
   "outputs": [],
   "source": [
    "pockets = list(nx.connected_components(G))"
   ]
  },
  {
   "cell_type": "code",
   "execution_count": 48,
   "id": "1946089b-bef1-41c1-9ac0-e4c1b5de2aa1",
   "metadata": {},
   "outputs": [
    {
     "data": {
      "text/plain": [
       "79"
      ]
     },
     "execution_count": 48,
     "metadata": {},
     "output_type": "execute_result"
    }
   ],
   "source": [
    "len(pockets)"
   ]
  },
  {
   "cell_type": "code",
   "execution_count": 49,
   "id": "dd87be07-8db7-4c1c-8fc0-f67ac0c41ba0",
   "metadata": {},
   "outputs": [
    {
     "data": {
      "application/vnd.jupyter.widget-view+json": {
       "model_id": "7cbd71967ae54a269c8cc9f78e258943",
       "version_major": 2,
       "version_minor": 0
      },
      "text/plain": [
       "NGLWidget()"
      ]
     },
     "metadata": {},
     "output_type": "display_data"
    }
   ],
   "source": [
    "view=msm.view(molecular_system)\n",
    "view"
   ]
  },
  {
   "cell_type": "code",
   "execution_count": 117,
   "id": "bf3bee51-e53e-4446-9e96-f037ea54f6dc",
   "metadata": {},
   "outputs": [],
   "source": [
    "view.clear()\n",
    "#view.add_surface(color='w', opacity=0.5)\n",
    "view.add_ball_and_stick(color='w', opacity=0.5)"
   ]
  },
  {
   "cell_type": "code",
   "execution_count": 118,
   "id": "9b8c76c7-d32e-4c9b-aef6-e668aba4480e",
   "metadata": {},
   "outputs": [
    {
     "name": "stdout",
     "output_type": "stream",
     "text": [
      "0 259\n",
      "5 302\n",
      "23 21\n",
      "24 12\n",
      "34 49\n",
      "40 22\n"
     ]
    }
   ],
   "source": [
    "for ii in range(len(pockets)):\n",
    "    if len(pockets[ii])>10:\n",
    "        print(ii, len(pockets[ii]))"
   ]
  },
  {
   "cell_type": "code",
   "execution_count": 119,
   "id": "febd25f3-0787-4628-81c5-5750b962c159",
   "metadata": {},
   "outputs": [
    {
     "name": "stdout",
     "output_type": "stream",
     "text": [
      "{1285, 1286, 1287, 1295, 5392, 1298, 5403, 5404, 52, 733, 734, 735, 5216, 5214, 5218, 5219, 5215, 5221, 5222, 5223, 238, 4095}\n"
     ]
    }
   ],
   "source": [
    "pocket = 40\n",
    "alphaspheres_in_pocket = pockets[pocket]\n",
    "atoms_in_pocket = np.concatenate([atoms_of_alphasphere[ii] for ii in alphaspheres_in_pocket])\n",
    "atoms_in_pocket = np.unique(atoms_in_pocket)\n",
    "\n",
    "print(alphaspheres_in_pocket)"
   ]
  },
  {
   "cell_type": "code",
   "execution_count": 120,
   "id": "6602349b-c68b-4574-a762-6f565511bd8e",
   "metadata": {},
   "outputs": [],
   "source": [
    "sel='@'+','.join([str(ii) for ii in atoms_in_pocket])\n",
    "view.add_surface(sel, color='red', opacity=0.3)"
   ]
  },
  {
   "cell_type": "code",
   "execution_count": 29,
   "id": "af531b82-f917-4285-b139-00df9dbf3fb4",
   "metadata": {},
   "outputs": [],
   "source": [
    "for ii in alphaspheres_in_pocket:\n",
    "    aa=atoms_of_alphasphere[ii]\n",
    "    view.shape.add_cylinder(coordinates[aa[0]]*10, coordinates[aa[1]]*10, [1,0,0], 0.1)\n",
    "    view.shape.add_cylinder(coordinates[aa[0]]*10, coordinates[aa[2]]*10, [1,0,0], 0.1)\n",
    "    view.shape.add_cylinder(coordinates[aa[0]]*10, coordinates[aa[3]]*10, [1,0,0], 0.1)\n",
    "    view.shape.add_cylinder(coordinates[aa[1]]*10, coordinates[aa[2]]*10, [1,0,0], 0.1)\n",
    "    view.shape.add_cylinder(coordinates[aa[1]]*10, coordinates[aa[3]]*10, [1,0,0], 0.1)\n",
    "    view.shape.add_cylinder(coordinates[aa[2]]*10, coordinates[aa[3]]*10, [1,0,0], 0.1)"
   ]
  },
  {
   "cell_type": "code",
   "execution_count": null,
   "id": "6af40180-6409-4951-b0c9-67388d5953df",
   "metadata": {},
   "outputs": [],
   "source": []
  }
 ],
 "metadata": {
  "kernelspec": {
   "display_name": "Python 3 (ipykernel)",
   "language": "python",
   "name": "python3"
  },
  "language_info": {
   "codemirror_mode": {
    "name": "ipython",
    "version": 3
   },
   "file_extension": ".py",
   "mimetype": "text/x-python",
   "name": "python",
   "nbconvert_exporter": "python",
   "pygments_lexer": "ipython3",
   "version": "3.10.12"
  }
 },
 "nbformat": 4,
 "nbformat_minor": 5
}
