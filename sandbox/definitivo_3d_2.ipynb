{
 "cells": [
  {
   "cell_type": "markdown",
   "id": "2c8069fe-26fb-4927-a8e0-ee98bca7c87f",
   "metadata": {},
   "source": [
    "# Permeable contorno"
   ]
  },
  {
   "cell_type": "code",
   "execution_count": 1,
   "id": "71404cdd-d9ee-4731-8211-3286042348c2",
   "metadata": {},
   "outputs": [],
   "source": [
    "from matplotlib import pyplot as plt\n",
    "from scipy.spatial.distance import euclidean\n",
    "import numpy as np\n",
    "from math import sqrt, isclose\n",
    "from test import is_permeable, is_permeable_mc"
   ]
  },
  {
   "cell_type": "code",
   "execution_count": 2,
   "id": "8d81547a-4b97-4f7b-bef0-5c2431bb339b",
   "metadata": {},
   "outputs": [],
   "source": [
    "disc1=np.array([3.0, 9.0, 4.0])\n",
    "r1=0.5\n",
    "\n",
    "disc2=np.array([5.0, 2.0, 1.0])\n",
    "r2=0.9\n",
    "\n",
    "disc3=np.array([5.0, 6.0, 1.0])\n",
    "r3=0.7"
   ]
  },
  {
   "cell_type": "code",
   "execution_count": 3,
   "id": "0abc373c-e94b-4756-ba1f-db865cb4512d",
   "metadata": {},
   "outputs": [],
   "source": [
    "rp=1.2"
   ]
  },
  {
   "cell_type": "code",
   "execution_count": 4,
   "id": "d38415ca-31b1-492e-9bc1-bd29fa324b69",
   "metadata": {},
   "outputs": [
    {
     "data": {
      "text/plain": [
       "True"
      ]
     },
     "execution_count": 4,
     "metadata": {},
     "output_type": "execute_result"
    }
   ],
   "source": [
    "is_permeable(rp, disc1, r1, disc2, r2, disc3, r3)"
   ]
  },
  {
   "cell_type": "code",
   "execution_count": 5,
   "id": "3630f6a0-35d5-47ca-8b9c-21cd2233d696",
   "metadata": {},
   "outputs": [
    {
     "data": {
      "text/plain": [
       "True"
      ]
     },
     "execution_count": 5,
     "metadata": {},
     "output_type": "execute_result"
    }
   ],
   "source": [
    "is_permeable(rp, disc1, r1, disc3, r3, disc2, r2)"
   ]
  },
  {
   "cell_type": "code",
   "execution_count": 6,
   "id": "9184b97a-6e57-4d7c-a2b6-af1fef82f3f4",
   "metadata": {},
   "outputs": [
    {
     "data": {
      "text/plain": [
       "True"
      ]
     },
     "execution_count": 6,
     "metadata": {},
     "output_type": "execute_result"
    }
   ],
   "source": [
    "is_permeable(rp, disc2, r2, disc1, r1, disc3, r3)"
   ]
  },
  {
   "cell_type": "code",
   "execution_count": 7,
   "id": "835a97c1-fa05-411b-93e8-91f0520e27e7",
   "metadata": {},
   "outputs": [
    {
     "data": {
      "text/plain": [
       "True"
      ]
     },
     "execution_count": 7,
     "metadata": {},
     "output_type": "execute_result"
    }
   ],
   "source": [
    "is_permeable(rp, disc2, r2, disc3, r3, disc1, r1)"
   ]
  },
  {
   "cell_type": "code",
   "execution_count": 8,
   "id": "d42f9e99-f7b5-4239-b2a0-0b39fe546c33",
   "metadata": {},
   "outputs": [
    {
     "data": {
      "text/plain": [
       "True"
      ]
     },
     "execution_count": 8,
     "metadata": {},
     "output_type": "execute_result"
    }
   ],
   "source": [
    "is_permeable(rp, disc3, r3, disc1, r1, disc2, r2)"
   ]
  },
  {
   "cell_type": "code",
   "execution_count": 9,
   "id": "9b2f5b26-8cfd-42e7-b5d8-78ce42bbea78",
   "metadata": {},
   "outputs": [
    {
     "data": {
      "text/plain": [
       "True"
      ]
     },
     "execution_count": 9,
     "metadata": {},
     "output_type": "execute_result"
    }
   ],
   "source": [
    "is_permeable(rp, disc3, r3, disc2, r2, disc1, r1)"
   ]
  },
  {
   "cell_type": "code",
   "execution_count": null,
   "id": "b9d96a8e-cb45-49f8-888f-5b37c6590f73",
   "metadata": {},
   "outputs": [],
   "source": []
  },
  {
   "cell_type": "code",
   "execution_count": 10,
   "id": "1faf2591-fcfe-47f5-bdae-8b523ed32418",
   "metadata": {},
   "outputs": [
    {
     "data": {
      "text/plain": [
       "True"
      ]
     },
     "execution_count": 10,
     "metadata": {},
     "output_type": "execute_result"
    }
   ],
   "source": [
    "is_permeable_mc(rp, disc1, r1, disc2, r2, disc3, r3)"
   ]
  },
  {
   "cell_type": "code",
   "execution_count": null,
   "id": "0031a8eb-61c5-43c3-b8ef-0b35b5fda2ad",
   "metadata": {},
   "outputs": [],
   "source": []
  },
  {
   "cell_type": "code",
   "execution_count": null,
   "id": "59883971-fa89-4d9a-b93c-e2df6fab89c3",
   "metadata": {},
   "outputs": [],
   "source": []
  }
 ],
 "metadata": {
  "kernelspec": {
   "display_name": "Python 3 (ipykernel)",
   "language": "python",
   "name": "python3"
  },
  "language_info": {
   "codemirror_mode": {
    "name": "ipython",
    "version": 3
   },
   "file_extension": ".py",
   "mimetype": "text/x-python",
   "name": "python",
   "nbconvert_exporter": "python",
   "pygments_lexer": "ipython3",
   "version": "3.10.12"
  }
 },
 "nbformat": 4,
 "nbformat_minor": 5
}
