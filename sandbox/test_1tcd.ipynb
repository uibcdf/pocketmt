{
 "cells": [
  {
   "cell_type": "code",
   "execution_count": 1,
   "id": "a86f6d35-0d83-4d71-b818-56665333029a",
   "metadata": {},
   "outputs": [
    {
     "data": {
      "application/vnd.jupyter.widget-view+json": {
       "model_id": "a02c84d92e9345a98444da77ef35941b",
       "version_major": 2,
       "version_minor": 0
      },
      "text/plain": []
     },
     "metadata": {},
     "output_type": "display_data"
    },
    {
     "name": "stderr",
     "output_type": "stream",
     "text": [
      "MOLSYSMT WARNING | UserWarning: pkg_resources is deprecated as an API. See https://setuptools.pypa.io/en/latest/pkg_resources.html. The pkg_resources package is slated for removal as early as 2025-11-30. Refrain from using this package or pin to Setuptools<81.\n",
      "\n"
     ]
    }
   ],
   "source": [
    "import molsysmt as msm\n",
    "import topomt as tmt"
   ]
  },
  {
   "cell_type": "code",
   "execution_count": null,
   "id": "aca052ae-e9a7-4594-aea2-5dd72dfca825",
   "metadata": {},
   "outputs": [],
   "source": [
    "topography = tmt.io.load_CASTp(dir_path=\"castp/1tcd\")"
   ]
  },
  {
   "cell_type": "code",
   "execution_count": null,
   "id": "bf19af6f-9aa3-419c-9060-744762191632",
   "metadata": {},
   "outputs": [],
   "source": [
    "topography."
   ]
  },
  {
   "cell_type": "code",
   "execution_count": null,
   "id": "4af38a3f-75a1-49b2-ad1f-5375a5c52871",
   "metadata": {},
   "outputs": [],
   "source": [
    "pocket.n_"
   ]
  },
  {
   "cell_type": "code",
   "execution_count": null,
   "id": "a8d9f032-549b-4326-b2fc-ed1d33fbaa22",
   "metadata": {},
   "outputs": [],
   "source": [
    "mouth = topography.mouths[0]"
   ]
  },
  {
   "cell_type": "code",
   "execution_count": null,
   "id": "a50e49eb-0f78-4795-9e69-391fd07d7551",
   "metadata": {},
   "outputs": [],
   "source": [
    "mouth.n_triangles"
   ]
  },
  {
   "cell_type": "code",
   "execution_count": null,
   "id": "75d39f23-0fc5-41a3-a528-7a5f76a766fb",
   "metadata": {},
   "outputs": [],
   "source": [
    "molsys = msm.convert('1TCD')"
   ]
  },
  {
   "cell_type": "code",
   "execution_count": null,
   "id": "52006de3-8862-4942-b07e-5be8898af24c",
   "metadata": {},
   "outputs": [],
   "source": [
    "pom.get_alpha_spheres(molsys, selection='molecule_type==\"protein\"')"
   ]
  },
  {
   "cell_type": "code",
   "execution_count": null,
   "id": "874dfcad-d251-4d3f-ba8e-054559dcfefd",
   "metadata": {},
   "outputs": [],
   "source": [
    "msm.view(molsys)"
   ]
  },
  {
   "cell_type": "code",
   "execution_count": null,
   "id": "89fbdb81-3307-474a-8626-6275e37dd68f",
   "metadata": {},
   "outputs": [],
   "source": [
    "import pyunitwizard as puw"
   ]
  },
  {
   "cell_type": "code",
   "execution_count": null,
   "id": "e2f5c70f-44a9-49e2-bc72-6aa5f3dbcbaa",
   "metadata": {},
   "outputs": [],
   "source": [
    "coordinates = msm.get(molsys, coordinates=True)"
   ]
  },
  {
   "cell_type": "code",
   "execution_count": null,
   "id": "355798b7-283b-4943-9921-54cb092f124c",
   "metadata": {},
   "outputs": [],
   "source": [
    "puw.get_value_and_unit(coordinates)"
   ]
  },
  {
   "cell_type": "code",
   "execution_count": null,
   "id": "1f0b8d24-8be3-4d0c-96f8-7467d3864350",
   "metadata": {},
   "outputs": [],
   "source": [
    "puw.check(coordinates, dimensionality={'[L]':1})"
   ]
  },
  {
   "cell_type": "code",
   "execution_count": null,
   "id": "0e4c3397-dcac-4f5f-a813-b49f14c9fd2a",
   "metadata": {},
   "outputs": [],
   "source": [
    "msm.info(molsys)"
   ]
  },
  {
   "cell_type": "code",
   "execution_count": null,
   "id": "fe16a9df-2c85-4daf-af45-f712992bc784",
   "metadata": {},
   "outputs": [],
   "source": [
    "msm.view('2LAO')"
   ]
  },
  {
   "cell_type": "code",
   "execution_count": null,
   "id": "682ac7da-ee71-41b1-b1a2-99f876e8d888",
   "metadata": {},
   "outputs": [],
   "source": [
    "import nglview as nv"
   ]
  },
  {
   "cell_type": "code",
   "execution_count": null,
   "id": "baac3613-4191-46fc-8584-1f3c371069f8",
   "metadata": {},
   "outputs": [],
   "source": [
    "view = nv.show_pdbid(\"3pqr\")  # load \"3pqr\" from RCSB PDB and display viewer widget\n",
    "view"
   ]
  },
  {
   "cell_type": "code",
   "execution_count": null,
   "id": "6f8eb0dc-b4ea-442c-87d9-f75356c26014",
   "metadata": {},
   "outputs": [],
   "source": []
  }
 ],
 "metadata": {
  "kernelspec": {
   "display_name": "Python 3 (ipykernel)",
   "language": "python",
   "name": "python3"
  },
  "language_info": {
   "codemirror_mode": {
    "name": "ipython",
    "version": 3
   },
   "file_extension": ".py",
   "mimetype": "text/x-python",
   "name": "python",
   "nbconvert_exporter": "python",
   "pygments_lexer": "ipython3",
   "version": "3.12.11"
  }
 },
 "nbformat": 4,
 "nbformat_minor": 5
}
