{
 "cells": [
  {
   "cell_type": "code",
   "execution_count": 1,
   "id": "a86f6d35-0d83-4d71-b818-56665333029a",
   "metadata": {},
   "outputs": [
    {
     "data": {
      "application/vnd.jupyter.widget-view+json": {
       "model_id": "689d509be1ac49c8801a875fe7789961",
       "version_major": 2,
       "version_minor": 0
      },
      "text/plain": []
     },
     "metadata": {},
     "output_type": "display_data"
    },
    {
     "name": "stderr",
     "output_type": "stream",
     "text": [
      "MOLSYSMT WARNING | UserWarning: pkg_resources is deprecated as an API. See https://setuptools.pypa.io/en/latest/pkg_resources.html. The pkg_resources package is slated for removal as early as 2025-11-30. Refrain from using this package or pin to Setuptools<81.\n",
      "\n"
     ]
    }
   ],
   "source": [
    "import molsysmt as msm\n",
    "import pocketmt as pom"
   ]
  },
  {
   "cell_type": "code",
   "execution_count": 2,
   "id": "75d39f23-0fc5-41a3-a528-7a5f76a766fb",
   "metadata": {},
   "outputs": [],
   "source": [
    "molsys = msm.convert('1TCD')"
   ]
  },
  {
   "cell_type": "code",
   "execution_count": 3,
   "id": "52006de3-8862-4942-b07e-5be8898af24c",
   "metadata": {},
   "outputs": [
    {
     "ename": "ValueError",
     "evalue": "The argument points needs to be a numpy array with shape (n_points, 3)",
     "output_type": "error",
     "traceback": [
      "\u001b[31m---------------------------------------------------------------------------\u001b[39m",
      "\u001b[31mValueError\u001b[39m                                Traceback (most recent call last)",
      "\u001b[36mCell\u001b[39m\u001b[36m \u001b[39m\u001b[32mIn[3]\u001b[39m\u001b[32m, line 1\u001b[39m\n\u001b[32m----> \u001b[39m\u001b[32m1\u001b[39m \u001b[43mpom\u001b[49m\u001b[43m.\u001b[49m\u001b[43mget_alpha_spheres\u001b[49m\u001b[43m(\u001b[49m\u001b[43mmolsys\u001b[49m\u001b[43m,\u001b[49m\u001b[43m \u001b[49m\u001b[43mselection\u001b[49m\u001b[43m=\u001b[49m\u001b[33;43m'\u001b[39;49m\u001b[33;43mmolecule_type==\u001b[39;49m\u001b[33;43m\"\u001b[39;49m\u001b[33;43mprotein\u001b[39;49m\u001b[33;43m\"\u001b[39;49m\u001b[33;43m'\u001b[39;49m\u001b[43m)\u001b[49m\n",
      "\u001b[36mFile \u001b[39m\u001b[32m~/repos@uibcdf/pocketmt/pocketmt/get_alpha_spheres.py:9\u001b[39m, in \u001b[36mget_alpha_spheres\u001b[39m\u001b[34m(molecular_system, selection)\u001b[39m\n\u001b[32m      7\u001b[39m molecular_system = msm.convert(molecular_system, to_form=\u001b[33m'\u001b[39m\u001b[33mmolsysmt.MolSys\u001b[39m\u001b[33m'\u001b[39m)\n\u001b[32m      8\u001b[39m atom_centers = msm.get(molecular_system, selection=selection, element=\u001b[33m'\u001b[39m\u001b[33matom\u001b[39m\u001b[33m'\u001b[39m, coordinates=\u001b[38;5;28;01mTrue\u001b[39;00m)\n\u001b[32m----> \u001b[39m\u001b[32m9\u001b[39m alpha_spheres = \u001b[43mAlphaSpheres\u001b[49m\u001b[43m(\u001b[49m\u001b[43mpoints\u001b[49m\u001b[43m=\u001b[49m\u001b[43matom_centers\u001b[49m\u001b[43m)\u001b[49m\n\u001b[32m     11\u001b[39m \u001b[38;5;28;01mreturn\u001b[39;00m alpha_spheres\n",
      "\u001b[36mFile \u001b[39m\u001b[32m~/repos@uibcdf/pocketmt/pocketmt/alpha_spheres/alpha_spheres.py:67\u001b[39m, in \u001b[36mAlphaSpheres.__init__\u001b[39m\u001b[34m(self, points)\u001b[39m\n\u001b[32m     65\u001b[39m     \u001b[38;5;28;01mpass\u001b[39;00m\n\u001b[32m     66\u001b[39m \u001b[38;5;28;01melse\u001b[39;00m:\n\u001b[32m---> \u001b[39m\u001b[32m67\u001b[39m     \u001b[38;5;28;01mraise\u001b[39;00m \u001b[38;5;167;01mValueError\u001b[39;00m(\u001b[33m\"\u001b[39m\u001b[33mThe argument points needs to be a numpy array with shape (n_points, 3)\u001b[39m\u001b[33m\"\u001b[39m)\n\u001b[32m     69\u001b[39m \u001b[38;5;28;01mif\u001b[39;00m (\u001b[38;5;28mlen\u001b[39m(points.shape)!=\u001b[32m2\u001b[39m) \u001b[38;5;129;01mand\u001b[39;00m (points.shape[\u001b[32m1\u001b[39m]!=\u001b[32m3\u001b[39m):\n\u001b[32m     70\u001b[39m     \u001b[38;5;28;01mraise\u001b[39;00m \u001b[38;5;167;01mValueError\u001b[39;00m(\u001b[33m\"\u001b[39m\u001b[33mThe argument points needs to be a numpy array with shape (n_points, 3)\u001b[39m\u001b[33m\"\u001b[39m)\n",
      "\u001b[31mValueError\u001b[39m: The argument points needs to be a numpy array with shape (n_points, 3)"
     ]
    }
   ],
   "source": [
    "pom.get_alpha_spheres(molsys, selection='molecule_type==\"protein\"')"
   ]
  },
  {
   "cell_type": "code",
   "execution_count": null,
   "id": "874dfcad-d251-4d3f-ba8e-054559dcfefd",
   "metadata": {},
   "outputs": [],
   "source": [
    "msm.view(molsys)"
   ]
  },
  {
   "cell_type": "code",
   "execution_count": 4,
   "id": "89fbdb81-3307-474a-8626-6275e37dd68f",
   "metadata": {},
   "outputs": [],
   "source": [
    "import pyunitwizard as puw"
   ]
  },
  {
   "cell_type": "code",
   "execution_count": 5,
   "id": "e2f5c70f-44a9-49e2-bc72-6aa5f3dbcbaa",
   "metadata": {},
   "outputs": [],
   "source": [
    "coordinates = msm.get(molsys, coordinates=True)"
   ]
  },
  {
   "cell_type": "code",
   "execution_count": 6,
   "id": "355798b7-283b-4943-9921-54cb092f124c",
   "metadata": {},
   "outputs": [
    {
     "data": {
      "text/plain": [
       "True"
      ]
     },
     "execution_count": 6,
     "metadata": {},
     "output_type": "execute_result"
    }
   ],
   "source": [
    "puw.is_quantity(coordinates)"
   ]
  },
  {
   "cell_type": "code",
   "execution_count": 7,
   "id": "1f0b8d24-8be3-4d0c-96f8-7467d3864350",
   "metadata": {},
   "outputs": [
    {
     "data": {
      "text/plain": [
       "True"
      ]
     },
     "execution_count": 7,
     "metadata": {},
     "output_type": "execute_result"
    }
   ],
   "source": [
    "puw.check(coordinates, dimensionality={'[L]':1})"
   ]
  },
  {
   "cell_type": "code",
   "execution_count": null,
   "id": "0e4c3397-dcac-4f5f-a813-b49f14c9fd2a",
   "metadata": {},
   "outputs": [],
   "source": [
    "msm.info(molsys)"
   ]
  },
  {
   "cell_type": "code",
   "execution_count": null,
   "id": "fe16a9df-2c85-4daf-af45-f712992bc784",
   "metadata": {},
   "outputs": [],
   "source": [
    "msm.view('2LAO')"
   ]
  },
  {
   "cell_type": "code",
   "execution_count": null,
   "id": "682ac7da-ee71-41b1-b1a2-99f876e8d888",
   "metadata": {},
   "outputs": [],
   "source": [
    "import nglview as nv"
   ]
  },
  {
   "cell_type": "code",
   "execution_count": null,
   "id": "baac3613-4191-46fc-8584-1f3c371069f8",
   "metadata": {},
   "outputs": [],
   "source": [
    "view = nv.show_pdbid(\"3pqr\")  # load \"3pqr\" from RCSB PDB and display viewer widget\n",
    "view"
   ]
  },
  {
   "cell_type": "code",
   "execution_count": null,
   "id": "6f8eb0dc-b4ea-442c-87d9-f75356c26014",
   "metadata": {},
   "outputs": [],
   "source": []
  }
 ],
 "metadata": {
  "kernelspec": {
   "display_name": "Python 3 (ipykernel)",
   "language": "python",
   "name": "python3"
  },
  "language_info": {
   "codemirror_mode": {
    "name": "ipython",
    "version": 3
   },
   "file_extension": ".py",
   "mimetype": "text/x-python",
   "name": "python",
   "nbconvert_exporter": "python",
   "pygments_lexer": "ipython3",
   "version": "3.12.11"
  }
 },
 "nbformat": 4,
 "nbformat_minor": 5
}
